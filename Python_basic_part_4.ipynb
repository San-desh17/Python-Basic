{
  "nbformat": 4,
  "nbformat_minor": 0,
  "metadata": {
    "colab": {
      "provenance": [],
      "gpuType": "T4",
      "authorship_tag": "ABX9TyNOhJ/g+gVwddu3eGyK+rWJ",
      "include_colab_link": true
    },
    "kernelspec": {
      "name": "python3",
      "display_name": "Python 3"
    },
    "language_info": {
      "name": "python"
    },
    "accelerator": "GPU"
  },
  "cells": [
    {
      "cell_type": "markdown",
      "metadata": {
        "id": "view-in-github",
        "colab_type": "text"
      },
      "source": [
        "<a href=\"https://colab.research.google.com/github/San-desh17/Python-basic/blob/python/Python_basic_part_4.ipynb\" target=\"_parent\"><img src=\"https://colab.research.google.com/assets/colab-badge.svg\" alt=\"Open In Colab\"/></a>"
      ]
    },
    {
      "cell_type": "markdown",
      "source": [
        "## List\n",
        "\n",
        "* What are lists\n",
        "* List vs Array\n",
        "* Characteristics of list\n",
        "* How to create a list\n",
        "* Access items from a list\n",
        "* Editing item in a list\n",
        "* Deleting items from a list\n",
        "* Operations on lists\n",
        "* Functions on list\n",
        "\n",
        "\n"
      ],
      "metadata": {
        "id": "w_TQWPfcHYqV"
      }
    },
    {
      "cell_type": "markdown",
      "source": [
        "1. List is a data type where you can store multiple items under one name.\n",
        "2. Dynamic arrays"
      ],
      "metadata": {
        "id": "5HYYapby4dDc"
      }
    },
    {
      "cell_type": "markdown",
      "source": [
        "#### Array vs list\n",
        "\n",
        "* Fixed vs dynamic size\n",
        "* Convenience -> hetrogeneous\n",
        "* speed of execution\n",
        "* memory"
      ],
      "metadata": {
        "id": "KM8GzSGD5dlI"
      }
    },
    {
      "cell_type": "code",
      "execution_count": null,
      "metadata": {
        "colab": {
          "base_uri": "https://localhost:8080/"
        },
        "id": "Plk6ZiC7HNPB",
        "outputId": "7e14d8ea-45c7-4aa6-f461-0c67f65999b2"
      },
      "outputs": [
        {
          "output_type": "stream",
          "name": "stdout",
          "text": [
            "139943416321472\n",
            "139944700264656\n",
            "139944700264688\n",
            "139944700264720\n",
            "139944700264752\n",
            "139944700264656\n",
            "139944700264688\n",
            "139944700264720\n",
            "139944700264752\n"
          ]
        }
      ],
      "source": [
        " # Referential array\n",
        " L =[0,1,2,3]\n",
        " print(id(L))\n",
        " print(id(L[0]))\n",
        " print(id(L[1]))\n",
        " print(id(L[2]))\n",
        " print(id(L[3]))\n",
        " print(id(0))\n",
        " print(id(1))\n",
        " print(id(2))\n",
        " print(id(3))"
      ]
    },
    {
      "cell_type": "markdown",
      "source": [
        "#### Characteristics of a list\n",
        "\n",
        "* Ordered\n",
        "* Changeble/ Mutable\n",
        "* Hetrogeneous\n",
        "* Can have duplicates\n",
        "* Dynamic\n",
        "* Can be nested\n",
        "* items can be accessed\n",
        "* can contain any kind of objects in python\n",
        "\n"
      ],
      "metadata": {
        "id": "Rh5VCZV_7OAy"
      }
    },
    {
      "cell_type": "code",
      "source": [
        "# order\n",
        "l  = [1,2,3]\n",
        "l1 = [3,2,1]\n",
        "l == l1"
      ],
      "metadata": {
        "colab": {
          "base_uri": "https://localhost:8080/"
        },
        "id": "HPOZBcsf4JVp",
        "outputId": "e84d637c-af62-48ef-8112-44eb8c0692cc"
      },
      "execution_count": null,
      "outputs": [
        {
          "output_type": "execute_result",
          "data": {
            "text/plain": [
              "False"
            ]
          },
          "metadata": {},
          "execution_count": 3
        }
      ]
    },
    {
      "cell_type": "code",
      "source": [
        "# mutable\n",
        "print(L)\n",
        "L[0]=5\n",
        "print(L)"
      ],
      "metadata": {
        "colab": {
          "base_uri": "https://localhost:8080/"
        },
        "id": "0hwjQCd68RxQ",
        "outputId": "244ba1fe-1755-4bef-fad2-d4772982cb2c"
      },
      "execution_count": null,
      "outputs": [
        {
          "output_type": "stream",
          "name": "stdout",
          "text": [
            "[0, 1, 2, 3]\n",
            "[5, 1, 2, 3]\n"
          ]
        }
      ]
    },
    {
      "cell_type": "code",
      "source": [
        "# heterogeneous\n",
        "l = [0,1.2,'Sandesh']\n",
        "l"
      ],
      "metadata": {
        "colab": {
          "base_uri": "https://localhost:8080/"
        },
        "id": "8X0LOFWa8VDv",
        "outputId": "55838a86-3ada-4ef0-937a-748d68312f91"
      },
      "execution_count": null,
      "outputs": [
        {
          "output_type": "execute_result",
          "data": {
            "text/plain": [
              "[0, 1.2, 'Sandesh']"
            ]
          },
          "metadata": {},
          "execution_count": 7
        }
      ]
    },
    {
      "cell_type": "code",
      "source": [
        "# duplicate\n",
        "l = [1,2,3,4,3,2]\n",
        "l"
      ],
      "metadata": {
        "colab": {
          "base_uri": "https://localhost:8080/"
        },
        "id": "J6K32vhB9Uug",
        "outputId": "664660f1-1fbb-4a2f-bf55-63837cd6fa19"
      },
      "execution_count": null,
      "outputs": [
        {
          "output_type": "execute_result",
          "data": {
            "text/plain": [
              "[1, 2, 3, 4, 3, 2]"
            ]
          },
          "metadata": {},
          "execution_count": 8
        }
      ]
    },
    {
      "cell_type": "code",
      "source": [
        "# nested\n",
        "L = [1,2,3,[4,5]]\n",
        "L"
      ],
      "metadata": {
        "colab": {
          "base_uri": "https://localhost:8080/"
        },
        "id": "CurhcXpX9aWL",
        "outputId": "5b520328-eb6f-4fac-8faa-25a1be0a7b54"
      },
      "execution_count": null,
      "outputs": [
        {
          "output_type": "execute_result",
          "data": {
            "text/plain": [
              "[1, 2, 3, [4, 5]]"
            ]
          },
          "metadata": {},
          "execution_count": 9
        }
      ]
    },
    {
      "cell_type": "code",
      "source": [
        "# slicing and indexing (positive and negative)"
      ],
      "metadata": {
        "id": "6rYL0-9m9gtH"
      },
      "execution_count": null,
      "outputs": []
    },
    {
      "cell_type": "markdown",
      "source": [
        "#### Creating a List"
      ],
      "metadata": {
        "id": "IDqjLm5_-6fs"
      }
    },
    {
      "cell_type": "code",
      "source": [
        "# empty\n",
        "l = []\n",
        "l"
      ],
      "metadata": {
        "colab": {
          "base_uri": "https://localhost:8080/"
        },
        "id": "hL55m5FK9oID",
        "outputId": "9ad60a3a-8eec-4ce1-ca45-f04502b7b624"
      },
      "execution_count": null,
      "outputs": [
        {
          "output_type": "execute_result",
          "data": {
            "text/plain": [
              "[]"
            ]
          },
          "metadata": {},
          "execution_count": 17
        }
      ]
    },
    {
      "cell_type": "code",
      "source": [
        "# 1D ( homogeneous)\n",
        "l = [1,2,3]\n",
        "l"
      ],
      "metadata": {
        "colab": {
          "base_uri": "https://localhost:8080/"
        },
        "id": "ZKZj3-6J-9zI",
        "outputId": "4811d958-e585-43f4-928e-fd465a48fb49"
      },
      "execution_count": null,
      "outputs": [
        {
          "output_type": "execute_result",
          "data": {
            "text/plain": [
              "[1, 2, 3]"
            ]
          },
          "metadata": {},
          "execution_count": 22
        }
      ]
    },
    {
      "cell_type": "code",
      "source": [
        "# 2D\n",
        "l = [[1,2],[3,4]]\n",
        "l"
      ],
      "metadata": {
        "colab": {
          "base_uri": "https://localhost:8080/"
        },
        "id": "9DJ2nOEm-_YB",
        "outputId": "29cf423b-3856-41c4-850d-46d370c40e15"
      },
      "execution_count": null,
      "outputs": [
        {
          "output_type": "execute_result",
          "data": {
            "text/plain": [
              "[[1, 2], [3, 4]]"
            ]
          },
          "metadata": {},
          "execution_count": 23
        }
      ]
    },
    {
      "cell_type": "code",
      "source": [
        "# 3D\n",
        "l = [[[1,2],[3,4]],[[5,6],[7,8]]]\n",
        "l"
      ],
      "metadata": {
        "colab": {
          "base_uri": "https://localhost:8080/"
        },
        "id": "FAE_D6O6_BGX",
        "outputId": "70b7a77e-dff6-4c35-ed43-c56491e18002"
      },
      "execution_count": null,
      "outputs": [
        {
          "output_type": "execute_result",
          "data": {
            "text/plain": [
              "[[[1, 2], [3, 4]], [[5, 6], [7, 8]]]"
            ]
          },
          "metadata": {},
          "execution_count": 24
        }
      ]
    },
    {
      "cell_type": "code",
      "source": [
        "# hetrogeneous\n",
        "l = [1,2.3,'Sandesh']\n",
        "l"
      ],
      "metadata": {
        "colab": {
          "base_uri": "https://localhost:8080/"
        },
        "id": "6Q_7HHAS_CPw",
        "outputId": "9707b9a7-3f56-4ff3-e934-6d59fdd6c1c3"
      },
      "execution_count": null,
      "outputs": [
        {
          "output_type": "execute_result",
          "data": {
            "text/plain": [
              "[1, 2.3, 'Sandesh']"
            ]
          },
          "metadata": {},
          "execution_count": 25
        }
      ]
    },
    {
      "cell_type": "code",
      "source": [
        "# using type conversion\n",
        "l = list('Sandesh')\n",
        "l"
      ],
      "metadata": {
        "colab": {
          "base_uri": "https://localhost:8080/"
        },
        "id": "Lf3I4ULu_EF4",
        "outputId": "1a1478d6-6a3f-448d-8192-c7468e5ea912"
      },
      "execution_count": null,
      "outputs": [
        {
          "output_type": "execute_result",
          "data": {
            "text/plain": [
              "['S', 'a', 'n', 'd', 'e', 's', 'h']"
            ]
          },
          "metadata": {},
          "execution_count": 26
        }
      ]
    },
    {
      "cell_type": "markdown",
      "source": [
        "#### Accessing items from a list"
      ],
      "metadata": {
        "id": "UAm_rf_zCu0Z"
      }
    },
    {
      "cell_type": "code",
      "source": [
        "# indexing\n",
        "l = [1,2,3,4,5]\n",
        "l[0]"
      ],
      "metadata": {
        "colab": {
          "base_uri": "https://localhost:8080/"
        },
        "id": "TbAuJfcb_Gmh",
        "outputId": "8cf24592-6b68-45e4-a616-902abd4c1287"
      },
      "execution_count": null,
      "outputs": [
        {
          "output_type": "execute_result",
          "data": {
            "text/plain": [
              "1"
            ]
          },
          "metadata": {},
          "execution_count": 27
        }
      ]
    },
    {
      "cell_type": "code",
      "source": [
        "l[-1]"
      ],
      "metadata": {
        "colab": {
          "base_uri": "https://localhost:8080/"
        },
        "id": "AxjDTa3ICzye",
        "outputId": "fce1cdcb-0f0f-4027-8343-e8c99a973409"
      },
      "execution_count": null,
      "outputs": [
        {
          "output_type": "execute_result",
          "data": {
            "text/plain": [
              "5"
            ]
          },
          "metadata": {},
          "execution_count": 28
        }
      ]
    },
    {
      "cell_type": "code",
      "source": [
        "# slicing\n",
        "l[0:3]"
      ],
      "metadata": {
        "colab": {
          "base_uri": "https://localhost:8080/"
        },
        "id": "3HiGJfQ8C2Hk",
        "outputId": "d3c822a6-f021-489a-a5fa-7fd83acf4b02"
      },
      "execution_count": null,
      "outputs": [
        {
          "output_type": "execute_result",
          "data": {
            "text/plain": [
              "[1, 2, 3]"
            ]
          },
          "metadata": {},
          "execution_count": 29
        }
      ]
    },
    {
      "cell_type": "code",
      "source": [
        "l[::-1]"
      ],
      "metadata": {
        "colab": {
          "base_uri": "https://localhost:8080/"
        },
        "id": "O-VcPiT0C4g-",
        "outputId": "eceb08cc-88a9-4000-88dd-09139afe58e2"
      },
      "execution_count": null,
      "outputs": [
        {
          "output_type": "execute_result",
          "data": {
            "text/plain": [
              "[5, 4, 3, 2, 1]"
            ]
          },
          "metadata": {},
          "execution_count": 30
        }
      ]
    },
    {
      "cell_type": "markdown",
      "source": [
        "#### Adding items to a list"
      ],
      "metadata": {
        "id": "9E4sDDE-DTRa"
      }
    },
    {
      "cell_type": "code",
      "source": [
        "# append (only one items)\n",
        "l = [1,2,3]\n",
        "l.append(4)\n",
        "l"
      ],
      "metadata": {
        "colab": {
          "base_uri": "https://localhost:8080/"
        },
        "id": "82Y9h0xPC69V",
        "outputId": "544b838f-56dc-4bde-d0f2-325c0ebbe46f"
      },
      "execution_count": null,
      "outputs": [
        {
          "output_type": "execute_result",
          "data": {
            "text/plain": [
              "[1, 2, 3, 4]"
            ]
          },
          "metadata": {},
          "execution_count": 33
        }
      ]
    },
    {
      "cell_type": "code",
      "source": [
        "l.append([5,6])\n",
        "l"
      ],
      "metadata": {
        "colab": {
          "base_uri": "https://localhost:8080/"
        },
        "id": "Qm7g52FyDhrq",
        "outputId": "53ef15ee-15bc-4b83-f992-a0f1923b05b2"
      },
      "execution_count": null,
      "outputs": [
        {
          "output_type": "execute_result",
          "data": {
            "text/plain": [
              "[1, 2, 3, 4, [5, 6]]"
            ]
          },
          "metadata": {},
          "execution_count": 34
        }
      ]
    },
    {
      "cell_type": "code",
      "source": [
        "l.append('Sandesh')\n",
        "l"
      ],
      "metadata": {
        "colab": {
          "base_uri": "https://localhost:8080/"
        },
        "id": "ukFdWPkOEcAA",
        "outputId": "cca72e1a-97e6-4d0e-d47b-b2af5b029e07"
      },
      "execution_count": null,
      "outputs": [
        {
          "output_type": "execute_result",
          "data": {
            "text/plain": [
              "[0, 1, 2, 3, 4, 5, 'Sandesh', 'Sandesh']"
            ]
          },
          "metadata": {},
          "execution_count": 38
        }
      ]
    },
    {
      "cell_type": "code",
      "source": [
        "l.append(['San'])\n",
        "l"
      ],
      "metadata": {
        "colab": {
          "base_uri": "https://localhost:8080/"
        },
        "id": "uoacmgpzEiDs",
        "outputId": "9dcb65d2-b3ec-40e4-f146-ab4aa746b74c"
      },
      "execution_count": null,
      "outputs": [
        {
          "output_type": "execute_result",
          "data": {
            "text/plain": [
              "[0, 1, 2, 3, 4, 5, 'Sandesh', 'Sandesh', ['San'], ['San']]"
            ]
          },
          "metadata": {},
          "execution_count": 40
        }
      ]
    },
    {
      "cell_type": "code",
      "source": [
        "# extend ( multiple item at a time )\n",
        "l = [1,2,3]\n",
        "l.extend([4,5])\n",
        "l"
      ],
      "metadata": {
        "colab": {
          "base_uri": "https://localhost:8080/"
        },
        "id": "SDQ3M7LEDXQQ",
        "outputId": "866c3278-bf3b-49d1-8afc-69401d2c9dd0"
      },
      "execution_count": null,
      "outputs": [
        {
          "output_type": "execute_result",
          "data": {
            "text/plain": [
              "[1, 2, 3, 4, 5]"
            ]
          },
          "metadata": {},
          "execution_count": 35
        }
      ]
    },
    {
      "cell_type": "code",
      "source": [
        "l.extend(['Sandesh'])\n",
        "l"
      ],
      "metadata": {
        "colab": {
          "base_uri": "https://localhost:8080/"
        },
        "id": "Uh_a3ycmEUzx",
        "outputId": "cfcb55e4-4035-4cc0-8b10-5fe8804655e6"
      },
      "execution_count": null,
      "outputs": [
        {
          "output_type": "execute_result",
          "data": {
            "text/plain": [
              "[0, 1, 2, 3, 4, 5, 'Sandesh']"
            ]
          },
          "metadata": {},
          "execution_count": 37
        }
      ]
    },
    {
      "cell_type": "code",
      "source": [
        "l.extend('Sandesh')\n",
        "l"
      ],
      "metadata": {
        "colab": {
          "base_uri": "https://localhost:8080/"
        },
        "id": "cZWEPYnOEo0s",
        "outputId": "82eff289-b927-49db-80e1-78b600e8aaf5"
      },
      "execution_count": null,
      "outputs": [
        {
          "output_type": "execute_result",
          "data": {
            "text/plain": [
              "[0,\n",
              " 1,\n",
              " 2,\n",
              " 3,\n",
              " 4,\n",
              " 5,\n",
              " 'Sandesh',\n",
              " 'Sandesh',\n",
              " ['San'],\n",
              " ['San'],\n",
              " 'S',\n",
              " 'a',\n",
              " 'n',\n",
              " 'd',\n",
              " 'e',\n",
              " 's',\n",
              " 'h']"
            ]
          },
          "metadata": {},
          "execution_count": 41
        }
      ]
    },
    {
      "cell_type": "code",
      "source": [
        "# insert (specified index position)\n",
        "l = [1,2,3,4,5]\n",
        "l.insert(0,0)\n",
        "l"
      ],
      "metadata": {
        "colab": {
          "base_uri": "https://localhost:8080/"
        },
        "id": "SA6Db43oDYZ0",
        "outputId": "6630377a-7816-4fef-852f-22fcfd76d8d9"
      },
      "execution_count": null,
      "outputs": [
        {
          "output_type": "execute_result",
          "data": {
            "text/plain": [
              "[0, 1, 2, 3, 4, 5]"
            ]
          },
          "metadata": {},
          "execution_count": 36
        }
      ]
    },
    {
      "cell_type": "markdown",
      "source": [
        "#### Editing items in a list"
      ],
      "metadata": {
        "id": "VPNDlBwMEKf8"
      }
    },
    {
      "cell_type": "code",
      "source": [
        "l[0]='Nepal'\n",
        "l"
      ],
      "metadata": {
        "colab": {
          "base_uri": "https://localhost:8080/"
        },
        "id": "ZyFB3F-UD1-h",
        "outputId": "977ecbbe-1870-40ce-92b4-9c2b9ebee7b6"
      },
      "execution_count": null,
      "outputs": [
        {
          "output_type": "execute_result",
          "data": {
            "text/plain": [
              "['Nepal',\n",
              " 1,\n",
              " 2,\n",
              " 3,\n",
              " 4,\n",
              " 5,\n",
              " 'Sandesh',\n",
              " 'Sandesh',\n",
              " ['San'],\n",
              " ['San'],\n",
              " 'S',\n",
              " 'a',\n",
              " 'n',\n",
              " 'd',\n",
              " 'e',\n",
              " 's',\n",
              " 'h']"
            ]
          },
          "metadata": {},
          "execution_count": 42
        }
      ]
    },
    {
      "cell_type": "code",
      "source": [
        "l[1:3] = [10,20]\n",
        "l"
      ],
      "metadata": {
        "colab": {
          "base_uri": "https://localhost:8080/"
        },
        "id": "jYBK-cr3E2eB",
        "outputId": "aa80e192-f890-453b-c1d3-f010a39bc159"
      },
      "execution_count": null,
      "outputs": [
        {
          "output_type": "execute_result",
          "data": {
            "text/plain": [
              "['Nepal',\n",
              " 10,\n",
              " 20,\n",
              " 3,\n",
              " 4,\n",
              " 5,\n",
              " 'Sandesh',\n",
              " 'Sandesh',\n",
              " ['San'],\n",
              " ['San'],\n",
              " 'S',\n",
              " 'a',\n",
              " 'n',\n",
              " 'd',\n",
              " 'e',\n",
              " 's',\n",
              " 'h']"
            ]
          },
          "metadata": {},
          "execution_count": 43
        }
      ]
    },
    {
      "cell_type": "markdown",
      "source": [
        "#### Deleting items from a list"
      ],
      "metadata": {
        "id": "c9NdM6_ZFBBT"
      }
    },
    {
      "cell_type": "code",
      "source": [
        "# del\n",
        "del l[0]\n",
        "l"
      ],
      "metadata": {
        "colab": {
          "base_uri": "https://localhost:8080/"
        },
        "id": "wH8Ou6eeE96n",
        "outputId": "bc00a3f9-a11e-4bf7-ff27-424f9d32918f"
      },
      "execution_count": null,
      "outputs": [
        {
          "output_type": "execute_result",
          "data": {
            "text/plain": [
              "[10,\n",
              " 20,\n",
              " 3,\n",
              " 4,\n",
              " 5,\n",
              " 'Sandesh',\n",
              " 'Sandesh',\n",
              " ['San'],\n",
              " ['San'],\n",
              " 'S',\n",
              " 'a',\n",
              " 'n',\n",
              " 'd',\n",
              " 'e',\n",
              " 's',\n",
              " 'h']"
            ]
          },
          "metadata": {},
          "execution_count": 49
        }
      ]
    },
    {
      "cell_type": "code",
      "source": [
        "del l"
      ],
      "metadata": {
        "id": "lEl8kSuVFiNw"
      },
      "execution_count": null,
      "outputs": []
    },
    {
      "cell_type": "code",
      "source": [
        "l"
      ],
      "metadata": {
        "colab": {
          "base_uri": "https://localhost:8080/",
          "height": 141
        },
        "id": "NquFydAjFlCe",
        "outputId": "92715c6f-1856-4eca-83c4-872e093eb3be"
      },
      "execution_count": null,
      "outputs": [
        {
          "output_type": "error",
          "ename": "NameError",
          "evalue": "name 'l' is not defined",
          "traceback": [
            "\u001b[0;31m---------------------------------------------------------------------------\u001b[0m",
            "\u001b[0;31mNameError\u001b[0m                                 Traceback (most recent call last)",
            "\u001b[0;32m<ipython-input-51-cde25b5e10ad>\u001b[0m in \u001b[0;36m<cell line: 1>\u001b[0;34m()\u001b[0m\n\u001b[0;32m----> 1\u001b[0;31m \u001b[0ml\u001b[0m\u001b[0;34m\u001b[0m\u001b[0;34m\u001b[0m\u001b[0m\n\u001b[0m",
            "\u001b[0;31mNameError\u001b[0m: name 'l' is not defined"
          ]
        }
      ]
    },
    {
      "cell_type": "code",
      "source": [
        "# remove\n",
        "l = [1,2,3,4,5]\n",
        "l.remove(1)\n",
        "l"
      ],
      "metadata": {
        "colab": {
          "base_uri": "https://localhost:8080/"
        },
        "id": "EnZ7d0bMFFyG",
        "outputId": "b5754a8b-19cd-4498-dcef-6514f566a045"
      },
      "execution_count": null,
      "outputs": [
        {
          "output_type": "execute_result",
          "data": {
            "text/plain": [
              "[2, 3, 4, 5]"
            ]
          },
          "metadata": {},
          "execution_count": 52
        }
      ]
    },
    {
      "cell_type": "code",
      "source": [
        "l.remove(6)\n",
        "l"
      ],
      "metadata": {
        "colab": {
          "base_uri": "https://localhost:8080/",
          "height": 159
        },
        "id": "zZ0j5N7DFpRx",
        "outputId": "a0a521c1-e02b-4511-8908-799b00619f54"
      },
      "execution_count": null,
      "outputs": [
        {
          "output_type": "error",
          "ename": "ValueError",
          "evalue": "list.remove(x): x not in list",
          "traceback": [
            "\u001b[0;31m---------------------------------------------------------------------------\u001b[0m",
            "\u001b[0;31mValueError\u001b[0m                                Traceback (most recent call last)",
            "\u001b[0;32m<ipython-input-53-7bc54deaa686>\u001b[0m in \u001b[0;36m<cell line: 1>\u001b[0;34m()\u001b[0m\n\u001b[0;32m----> 1\u001b[0;31m \u001b[0ml\u001b[0m\u001b[0;34m.\u001b[0m\u001b[0mremove\u001b[0m\u001b[0;34m(\u001b[0m\u001b[0;36m6\u001b[0m\u001b[0;34m)\u001b[0m\u001b[0;34m\u001b[0m\u001b[0;34m\u001b[0m\u001b[0m\n\u001b[0m\u001b[1;32m      2\u001b[0m \u001b[0ml\u001b[0m\u001b[0;34m\u001b[0m\u001b[0;34m\u001b[0m\u001b[0m\n",
            "\u001b[0;31mValueError\u001b[0m: list.remove(x): x not in list"
          ]
        }
      ]
    },
    {
      "cell_type": "code",
      "source": [
        "# pop  (last and index wise)\n",
        "l.pop()"
      ],
      "metadata": {
        "colab": {
          "base_uri": "https://localhost:8080/"
        },
        "id": "-OgNK32BFGcf",
        "outputId": "01a2e1c7-e4c6-4505-c973-4e1c49391370"
      },
      "execution_count": null,
      "outputs": [
        {
          "output_type": "execute_result",
          "data": {
            "text/plain": [
              "4"
            ]
          },
          "metadata": {},
          "execution_count": 58
        }
      ]
    },
    {
      "cell_type": "code",
      "source": [
        "l"
      ],
      "metadata": {
        "colab": {
          "base_uri": "https://localhost:8080/"
        },
        "id": "gb6wrH4EFvUd",
        "outputId": "42cff38d-c6dd-455c-9e27-48a5af8f2b36"
      },
      "execution_count": null,
      "outputs": [
        {
          "output_type": "execute_result",
          "data": {
            "text/plain": [
              "[2, 3, 4]"
            ]
          },
          "metadata": {},
          "execution_count": 55
        }
      ]
    },
    {
      "cell_type": "code",
      "source": [
        "l.pop(1)"
      ],
      "metadata": {
        "colab": {
          "base_uri": "https://localhost:8080/"
        },
        "id": "MaBHnCzZFxek",
        "outputId": "3147e8c5-110a-42dc-edb9-48596cc0664c"
      },
      "execution_count": null,
      "outputs": [
        {
          "output_type": "execute_result",
          "data": {
            "text/plain": [
              "3"
            ]
          },
          "metadata": {},
          "execution_count": 57
        }
      ]
    },
    {
      "cell_type": "code",
      "source": [
        "# clear\n",
        "l.clear()\n",
        "l\n"
      ],
      "metadata": {
        "colab": {
          "base_uri": "https://localhost:8080/"
        },
        "id": "_o1Siu-iFHQ3",
        "outputId": "d824f949-ed60-4799-86e0-ff8bb276463f"
      },
      "execution_count": null,
      "outputs": [
        {
          "output_type": "execute_result",
          "data": {
            "text/plain": [
              "[]"
            ]
          },
          "metadata": {},
          "execution_count": 59
        }
      ]
    },
    {
      "cell_type": "markdown",
      "source": [
        "#### Operations on list\n",
        "* Arithmetic\n",
        "* Membership\n",
        "* Loop"
      ],
      "metadata": {
        "id": "OTq7PpBiGH3n"
      }
    },
    {
      "cell_type": "code",
      "source": [
        "# arithmetic ( +,*)\n",
        "l1 = [1,2,3]\n",
        "l2 = [4,5,6]\n",
        "l1+l2  # concatenation / merge"
      ],
      "metadata": {
        "colab": {
          "base_uri": "https://localhost:8080/"
        },
        "id": "j3Jv9QRaFIUe",
        "outputId": "1fe7201f-fd2b-41ce-c99e-fed314e7a40e"
      },
      "execution_count": null,
      "outputs": [
        {
          "output_type": "execute_result",
          "data": {
            "text/plain": [
              "[1, 2, 3, 4, 5, 6]"
            ]
          },
          "metadata": {},
          "execution_count": 60
        }
      ]
    },
    {
      "cell_type": "code",
      "source": [
        "l1*3"
      ],
      "metadata": {
        "colab": {
          "base_uri": "https://localhost:8080/"
        },
        "id": "V9_ryH-_GRGl",
        "outputId": "9c1f6736-bcee-4cae-b505-c3c3b0061088"
      },
      "execution_count": null,
      "outputs": [
        {
          "output_type": "execute_result",
          "data": {
            "text/plain": [
              "[1, 2, 3, 1, 2, 3, 1, 2, 3]"
            ]
          },
          "metadata": {},
          "execution_count": 61
        }
      ]
    },
    {
      "cell_type": "code",
      "source": [
        "# membership\n",
        "l = [1,2,3,4,5]\n",
        "1 in l"
      ],
      "metadata": {
        "colab": {
          "base_uri": "https://localhost:8080/"
        },
        "id": "A2CBD69fGTV1",
        "outputId": "fc408032-9b5b-4103-cb42-3bb36869c6a5"
      },
      "execution_count": null,
      "outputs": [
        {
          "output_type": "execute_result",
          "data": {
            "text/plain": [
              "True"
            ]
          },
          "metadata": {},
          "execution_count": 64
        }
      ]
    },
    {
      "cell_type": "code",
      "source": [
        "# loop\n",
        "for i in l:\n",
        "    print(i)"
      ],
      "metadata": {
        "colab": {
          "base_uri": "https://localhost:8080/"
        },
        "id": "fXISdJ3xGW6m",
        "outputId": "090b740f-dba9-4d91-9404-11f2a87b1437"
      },
      "execution_count": null,
      "outputs": [
        {
          "output_type": "stream",
          "name": "stdout",
          "text": [
            "1\n",
            "2\n",
            "3\n",
            "4\n",
            "5\n"
          ]
        }
      ]
    },
    {
      "cell_type": "code",
      "source": [
        "l =[[1,2,3],[4,5,6]]\n",
        "for i in iter(l):\n",
        "    print(i)"
      ],
      "metadata": {
        "colab": {
          "base_uri": "https://localhost:8080/"
        },
        "id": "GRTT1BtNGpjI",
        "outputId": "81f5219c-e1a6-4df0-ec8b-e67600eb2538"
      },
      "execution_count": null,
      "outputs": [
        {
          "output_type": "stream",
          "name": "stdout",
          "text": [
            "[1, 2, 3]\n",
            "[4, 5, 6]\n"
          ]
        }
      ]
    },
    {
      "cell_type": "code",
      "source": [
        "for i in l:\n",
        "  for j in i:\n",
        "    print(j)"
      ],
      "metadata": {
        "colab": {
          "base_uri": "https://localhost:8080/"
        },
        "id": "RAb1IcW9G4aV",
        "outputId": "4b6f5f2b-5d36-40d5-e59d-0ce61f4d649d"
      },
      "execution_count": null,
      "outputs": [
        {
          "output_type": "stream",
          "name": "stdout",
          "text": [
            "1\n",
            "2\n",
            "3\n",
            "4\n",
            "5\n",
            "6\n"
          ]
        }
      ]
    },
    {
      "cell_type": "markdown",
      "source": [
        "#### List functions\n"
      ],
      "metadata": {
        "id": "BaeuLn4THk5F"
      }
    },
    {
      "cell_type": "code",
      "source": [
        "# len\n",
        "len(l)"
      ],
      "metadata": {
        "colab": {
          "base_uri": "https://localhost:8080/"
        },
        "id": "EjQaTGjxHdb4",
        "outputId": "0cda4e06-cdfe-47c9-f779-bc14cb2e0d47"
      },
      "execution_count": null,
      "outputs": [
        {
          "output_type": "execute_result",
          "data": {
            "text/plain": [
              "2"
            ]
          },
          "metadata": {},
          "execution_count": 82
        }
      ]
    },
    {
      "cell_type": "code",
      "source": [
        "l = [1,2,3,4,5]"
      ],
      "metadata": {
        "id": "kzsK45zuIRH2"
      },
      "execution_count": null,
      "outputs": []
    },
    {
      "cell_type": "code",
      "source": [
        "# min\n",
        "min(l)"
      ],
      "metadata": {
        "colab": {
          "base_uri": "https://localhost:8080/"
        },
        "id": "FQyrIVWgHnrl",
        "outputId": "92d37532-ab61-4395-b81d-eddd0bc0ae75"
      },
      "execution_count": null,
      "outputs": [
        {
          "output_type": "execute_result",
          "data": {
            "text/plain": [
              "[1, 2, 3]"
            ]
          },
          "metadata": {},
          "execution_count": 90
        }
      ]
    },
    {
      "cell_type": "code",
      "source": [
        "# max\n",
        "max(l)"
      ],
      "metadata": {
        "colab": {
          "base_uri": "https://localhost:8080/"
        },
        "id": "2797arz4HoKr",
        "outputId": "1dbc3541-8837-4da8-d9aa-70e20950c784"
      },
      "execution_count": null,
      "outputs": [
        {
          "output_type": "execute_result",
          "data": {
            "text/plain": [
              "[4, 5, 6]"
            ]
          },
          "metadata": {},
          "execution_count": 91
        }
      ]
    },
    {
      "cell_type": "code",
      "source": [
        "l=[1,4,5,3,2]\n",
        "# sorted\n",
        "sorted(l)"
      ],
      "metadata": {
        "colab": {
          "base_uri": "https://localhost:8080/"
        },
        "id": "agddc-KoHoua",
        "outputId": "0657de16-fa6a-4eca-eb2f-23ccb7d07f87"
      },
      "execution_count": null,
      "outputs": [
        {
          "output_type": "execute_result",
          "data": {
            "text/plain": [
              "[1, 2, 3, 4, 5]"
            ]
          },
          "metadata": {},
          "execution_count": 94
        }
      ]
    },
    {
      "cell_type": "code",
      "source": [
        "# copy\n",
        "b = l.copy()\n",
        "b"
      ],
      "metadata": {
        "colab": {
          "base_uri": "https://localhost:8080/"
        },
        "id": "HxDJeGwGHpmx",
        "outputId": "63eed061-ef5c-487a-8a40-ded3ed2aa0ea"
      },
      "execution_count": null,
      "outputs": [
        {
          "output_type": "execute_result",
          "data": {
            "text/plain": [
              "[1, 4, 5, 3, 2]"
            ]
          },
          "metadata": {},
          "execution_count": 95
        }
      ]
    },
    {
      "cell_type": "code",
      "source": [
        "# sort (permanent)\n",
        "l.sort()\n"
      ],
      "metadata": {
        "id": "ttFfkqzxHqbE"
      },
      "execution_count": null,
      "outputs": []
    },
    {
      "cell_type": "code",
      "source": [
        "l"
      ],
      "metadata": {
        "colab": {
          "base_uri": "https://localhost:8080/"
        },
        "id": "madL4ZGlI1V5",
        "outputId": "5f40cea6-e7bd-4294-ba0f-31bff28ff7e6"
      },
      "execution_count": null,
      "outputs": [
        {
          "output_type": "execute_result",
          "data": {
            "text/plain": [
              "[1, 2, 3, 4, 5]"
            ]
          },
          "metadata": {},
          "execution_count": 98
        }
      ]
    },
    {
      "cell_type": "code",
      "source": [
        "# view\n",
        "c = l\n",
        "c"
      ],
      "metadata": {
        "colab": {
          "base_uri": "https://localhost:8080/"
        },
        "id": "XNaPGGdwHrtq",
        "outputId": "11f2089b-d975-46f3-f2b5-2f8cdf3f30f2"
      },
      "execution_count": null,
      "outputs": [
        {
          "output_type": "execute_result",
          "data": {
            "text/plain": [
              "[1, 2, 3, 4, 5]"
            ]
          },
          "metadata": {},
          "execution_count": 99
        }
      ]
    },
    {
      "cell_type": "code",
      "source": [
        "# count\n",
        "l.count(1)"
      ],
      "metadata": {
        "colab": {
          "base_uri": "https://localhost:8080/"
        },
        "id": "3EJad7nBHsrA",
        "outputId": "fa145d1f-30b1-4b3c-8585-c05adb3d5b1d"
      },
      "execution_count": null,
      "outputs": [
        {
          "output_type": "execute_result",
          "data": {
            "text/plain": [
              "1"
            ]
          },
          "metadata": {},
          "execution_count": 100
        }
      ]
    },
    {
      "cell_type": "code",
      "source": [
        "# index\n",
        "l.index(3)"
      ],
      "metadata": {
        "colab": {
          "base_uri": "https://localhost:8080/"
        },
        "id": "hqpUEdp6Hw0y",
        "outputId": "7bafb41b-a18a-4b7f-fa50-6d6662cb8e6f"
      },
      "execution_count": null,
      "outputs": [
        {
          "output_type": "execute_result",
          "data": {
            "text/plain": [
              "2"
            ]
          },
          "metadata": {},
          "execution_count": 101
        }
      ]
    },
    {
      "cell_type": "code",
      "source": [
        "# reverse\n",
        "l.reverse()"
      ],
      "metadata": {
        "id": "MYXtUcOrI_uA"
      },
      "execution_count": null,
      "outputs": []
    },
    {
      "cell_type": "code",
      "source": [
        "l"
      ],
      "metadata": {
        "colab": {
          "base_uri": "https://localhost:8080/"
        },
        "id": "2X-0C7GfMjmG",
        "outputId": "500ed388-5534-4f36-ed42-82bd1e9cdddb"
      },
      "execution_count": null,
      "outputs": [
        {
          "output_type": "execute_result",
          "data": {
            "text/plain": [
              "[5, 4, 3, 2, 1]"
            ]
          },
          "metadata": {},
          "execution_count": 3
        }
      ]
    },
    {
      "cell_type": "markdown",
      "source": [
        "#### List Comprehension\n",
        "\n",
        "* List comprehension provides a concise way of creating lists.\n",
        "\n",
        "new_list = [expression for item in iterable if condition == True]\n",
        "\n",
        "Advantage of list comprehension\n",
        "* More time efficient an space efficient than loops\n",
        "* Required fewer lines of code\n",
        "* Transforms iterative statement into a formula"
      ],
      "metadata": {
        "id": "8BxlEuYiJJgt"
      }
    },
    {
      "cell_type": "code",
      "source": [
        "multiple_of_two = [n*2 for n in range(1,11)]\n",
        "multiple_of_two"
      ],
      "metadata": {
        "colab": {
          "base_uri": "https://localhost:8080/"
        },
        "id": "m0kn-oOhNG_A",
        "outputId": "7c202105-f587-41a0-9ac2-664dc5f057a0"
      },
      "execution_count": null,
      "outputs": [
        {
          "output_type": "execute_result",
          "data": {
            "text/plain": [
              "[2, 4, 6, 8, 10, 12, 14, 16, 18, 20]"
            ]
          },
          "metadata": {},
          "execution_count": 5
        }
      ]
    },
    {
      "cell_type": "code",
      "source": [
        "even_number = [i for i in range(1,21) if i%2==0]\n",
        "even_number"
      ],
      "metadata": {
        "colab": {
          "base_uri": "https://localhost:8080/"
        },
        "id": "uBNAn7vaNGxn",
        "outputId": "cf1f42d9-44fb-4011-bfdf-ed5332425803"
      },
      "execution_count": null,
      "outputs": [
        {
          "output_type": "execute_result",
          "data": {
            "text/plain": [
              "[2, 4, 6, 8, 10, 12, 14, 16, 18, 20]"
            ]
          },
          "metadata": {},
          "execution_count": 7
        }
      ]
    },
    {
      "cell_type": "code",
      "source": [
        "# find languages which start with letter p\n",
        "language = ['python','java','c++','c','javascript','php']\n",
        "new_list = [i for i in language if i.startswith('p')]\n",
        "new_list\n"
      ],
      "metadata": {
        "colab": {
          "base_uri": "https://localhost:8080/"
        },
        "id": "W3D4av-3NGpi",
        "outputId": "11e5fbd1-46b7-4918-c46f-f87a5d5c5b36"
      },
      "execution_count": null,
      "outputs": [
        {
          "output_type": "execute_result",
          "data": {
            "text/plain": [
              "['python', 'php']"
            ]
          },
          "metadata": {},
          "execution_count": 8
        }
      ]
    },
    {
      "cell_type": "markdown",
      "source": [
        "#### Two ways to traverse\n",
        "1. element wise\n",
        "2. index wise"
      ],
      "metadata": {
        "id": "HEMPdD0gJMXa"
      }
    },
    {
      "cell_type": "code",
      "source": [
        "# item wise\n",
        "l = [1,2,3,4,5]\n",
        "for i in l:\n",
        "    print(i)"
      ],
      "metadata": {
        "colab": {
          "base_uri": "https://localhost:8080/"
        },
        "id": "lnsHk9ocOmMr",
        "outputId": "1680704e-f23c-42b9-b840-567dc71e4482"
      },
      "execution_count": null,
      "outputs": [
        {
          "output_type": "stream",
          "name": "stdout",
          "text": [
            "1\n",
            "2\n",
            "3\n",
            "4\n",
            "5\n"
          ]
        }
      ]
    },
    {
      "cell_type": "code",
      "source": [
        "# element wise\n",
        "for i in range(len(l)):\n",
        "    print(l[i])"
      ],
      "metadata": {
        "colab": {
          "base_uri": "https://localhost:8080/"
        },
        "id": "DqA3xW-dOmIv",
        "outputId": "6527e462-055c-4c87-a039-830e8d8db1f7"
      },
      "execution_count": null,
      "outputs": [
        {
          "output_type": "stream",
          "name": "stdout",
          "text": [
            "1\n",
            "2\n",
            "3\n",
            "4\n",
            "5\n"
          ]
        }
      ]
    },
    {
      "cell_type": "markdown",
      "source": [
        "#### Zip function\n",
        "\n",
        "The zip() fuctions returns a zip object, which is an iterator of tuples where the first item in each passed iterator is paired together, and then the second item in each passed iterator are paired together .\n",
        "If the passed iterators have different lengths, the iterator with the least items decides the length of the new iterator."
      ],
      "metadata": {
        "id": "e6Q8YKavJW-T"
      }
    },
    {
      "cell_type": "code",
      "source": [
        "# write a program to add items of lists indexwise\n",
        "l1 = [1,2,3,4,5]\n",
        "l2 = [6,7,8,9,10]\n",
        "L=[]\n",
        "for i in zip(l1,l2):\n",
        "    L.append(list(i))"
      ],
      "metadata": {
        "id": "WzyGtwIOPSnW"
      },
      "execution_count": null,
      "outputs": []
    },
    {
      "cell_type": "code",
      "source": [
        "L"
      ],
      "metadata": {
        "colab": {
          "base_uri": "https://localhost:8080/"
        },
        "id": "2MJDWNJKPSkP",
        "outputId": "dd61e706-54a6-4ad4-9fa7-e848192dadde"
      },
      "execution_count": null,
      "outputs": [
        {
          "output_type": "execute_result",
          "data": {
            "text/plain": [
              "[[1, 6], [2, 7], [3, 8], [4, 9], [5, 10]]"
            ]
          },
          "metadata": {},
          "execution_count": 16
        }
      ]
    },
    {
      "cell_type": "code",
      "source": [],
      "metadata": {
        "id": "Z92-jQKOPShs"
      },
      "execution_count": null,
      "outputs": []
    },
    {
      "cell_type": "code",
      "source": [],
      "metadata": {
        "id": "Uz1SGe9dPSe9"
      },
      "execution_count": null,
      "outputs": []
    },
    {
      "cell_type": "markdown",
      "source": [
        "#### Disadvantage of list\n",
        "\n",
        "* slow\n",
        "* risky usage\n",
        "* eats up more memory"
      ],
      "metadata": {
        "id": "esOL-K_8Jgxp"
      }
    },
    {
      "cell_type": "code",
      "source": [
        "print(i)"
      ],
      "metadata": {
        "id": "CA1PckdkJJDN"
      },
      "execution_count": null,
      "outputs": []
    },
    {
      "cell_type": "code",
      "source": [],
      "metadata": {
        "id": "SJ8Ku-ZqLcUO"
      },
      "execution_count": null,
      "outputs": []
    }
  ]
}