{
  "nbformat": 4,
  "nbformat_minor": 0,
  "metadata": {
    "colab": {
      "provenance": [],
      "gpuType": "V28",
      "authorship_tag": "ABX9TyPcw2GfcMr68wOuoJom6NQw",
      "include_colab_link": true
    },
    "kernelspec": {
      "name": "python3",
      "display_name": "Python 3"
    },
    "language_info": {
      "name": "python"
    },
    "accelerator": "TPU"
  },
  "cells": [
    {
      "cell_type": "markdown",
      "metadata": {
        "id": "view-in-github",
        "colab_type": "text"
      },
      "source": [
        "<a href=\"https://colab.research.google.com/github/San-desh17/Python-basic/blob/python/Python_Basic_Part_2.ipynb\" target=\"_parent\"><img src=\"https://colab.research.google.com/assets/colab-badge.svg\" alt=\"Open In Colab\"/></a>"
      ]
    },
    {
      "cell_type": "markdown",
      "source": [
        "### Operators in Python\n",
        "* Arithmetic Operators\n",
        "* Relational Operators\n",
        "* Logical Operators\n",
        "* Bitwise Operators\n",
        "* Assignment Operators\n",
        "* Membership Operators\n",
        "* Identity Operators\n"
      ],
      "metadata": {
        "id": "Wff90n3cnalP"
      }
    },
    {
      "cell_type": "markdown",
      "source": [
        "#### Arithmetic Operators"
      ],
      "metadata": {
        "id": "hIG83BYVn2iJ"
      }
    },
    {
      "cell_type": "code",
      "source": [
        "# +,-,/,*.**,//.%\n",
        "print(5+6)\n",
        "print(5-6)\n",
        "print(5*6)\n",
        "print(5/2)\n",
        "print(5//2)\n",
        "print(5**3)\n",
        "print(5%2)"
      ],
      "metadata": {
        "colab": {
          "base_uri": "https://localhost:8080/"
        },
        "id": "WXFfqWOinSAg",
        "outputId": "233b4c4d-19e6-44e8-e28e-f8a299f91c0e"
      },
      "execution_count": null,
      "outputs": [
        {
          "output_type": "stream",
          "name": "stdout",
          "text": [
            "11\n",
            "-1\n",
            "30\n",
            "2.5\n",
            "2\n",
            "125\n",
            "1\n"
          ]
        }
      ]
    },
    {
      "cell_type": "markdown",
      "source": [
        "#### Relational Operators"
      ],
      "metadata": {
        "id": "lozv11I9oM99"
      }
    },
    {
      "cell_type": "code",
      "execution_count": null,
      "metadata": {
        "colab": {
          "base_uri": "https://localhost:8080/"
        },
        "id": "jBiRRRiHnDRG",
        "outputId": "5bcaf438-dacc-4cad-8bc5-ecd070e7cfeb"
      },
      "outputs": [
        {
          "output_type": "stream",
          "name": "stdout",
          "text": [
            "False\n",
            "True\n",
            "False\n",
            "True\n",
            "True\n",
            "False\n"
          ]
        }
      ],
      "source": [
        "# >,<,==,!=,>=,<=\n",
        "print(4>5)\n",
        "print(4<5)\n",
        "print(4>=5)\n",
        "print(4<=5)\n",
        "print(4==4)\n",
        "print(4!=4)"
      ]
    },
    {
      "cell_type": "markdown",
      "source": [
        "#### Logical Operators\n"
      ],
      "metadata": {
        "id": "8x57Bqd1oqSF"
      }
    },
    {
      "cell_type": "code",
      "source": [
        "# and,or,not\n",
        "print(1 and 0)\n",
        "print(1 or 0)\n",
        "print(not 1)"
      ],
      "metadata": {
        "colab": {
          "base_uri": "https://localhost:8080/"
        },
        "id": "3-S0bPownMG9",
        "outputId": "53d8b2c1-046a-4e50-998f-e82cc411ad51"
      },
      "execution_count": null,
      "outputs": [
        {
          "output_type": "stream",
          "name": "stdout",
          "text": [
            "0\n",
            "1\n",
            "False\n"
          ]
        }
      ]
    },
    {
      "cell_type": "markdown",
      "source": [
        "#### Bitwise operators"
      ],
      "metadata": {
        "id": "z78USUxKszTY"
      }
    },
    {
      "cell_type": "code",
      "source": [
        "# &,|,^,~,>>,<<\n",
        "print(2&3)\n",
        "print(2|3)\n",
        "print(2^3)\n",
        "print(~3)\n",
        "print(4>>2)\n",
        "print(4<<2)"
      ],
      "metadata": {
        "colab": {
          "base_uri": "https://localhost:8080/"
        },
        "id": "0z56nMznoRvY",
        "outputId": "74ed018f-3c31-46f1-fec5-384ff0befc02"
      },
      "execution_count": null,
      "outputs": [
        {
          "output_type": "stream",
          "name": "stdout",
          "text": [
            "2\n",
            "3\n",
            "1\n",
            "-4\n",
            "1\n",
            "16\n"
          ]
        }
      ]
    },
    {
      "cell_type": "markdown",
      "source": [
        "#### Assignment Operators"
      ],
      "metadata": {
        "id": "jlUAb-vstgVw"
      }
    },
    {
      "cell_type": "code",
      "source": [
        "# =,+=\n",
        "a=10\n",
        "a+=10\n",
        "print(a)"
      ],
      "metadata": {
        "colab": {
          "base_uri": "https://localhost:8080/"
        },
        "id": "sHDc8TTWoRr6",
        "outputId": "e8d3e919-aeb7-44ef-a585-b14d3020e916"
      },
      "execution_count": null,
      "outputs": [
        {
          "output_type": "stream",
          "name": "stdout",
          "text": [
            "20\n"
          ]
        }
      ]
    },
    {
      "cell_type": "markdown",
      "source": [
        "## Membership Operators"
      ],
      "metadata": {
        "id": "F0LRmdtutyF1"
      }
    },
    {
      "cell_type": "code",
      "source": [
        "# in /not in\n",
        "print('D' not in 'Delhi')\n",
        "print(1 in [2,3,4,5,6])"
      ],
      "metadata": {
        "colab": {
          "base_uri": "https://localhost:8080/"
        },
        "id": "Y5BZw1-xoRph",
        "outputId": "db7fb60e-9db7-4122-e0e3-c4fb28fe4354"
      },
      "execution_count": null,
      "outputs": [
        {
          "output_type": "stream",
          "name": "stdout",
          "text": [
            "False\n",
            "False\n"
          ]
        }
      ]
    },
    {
      "cell_type": "markdown",
      "source": [
        "## Identity Operators"
      ],
      "metadata": {
        "id": "9eUYDNeXuE0q"
      }
    },
    {
      "cell_type": "code",
      "source": [
        "# is /not is\n",
        "print(1 is 1)\n",
        "print(1 is not 2)"
      ],
      "metadata": {
        "colab": {
          "base_uri": "https://localhost:8080/"
        },
        "id": "kRdDsMDtoRmq",
        "outputId": "166ef0d6-8d86-4896-8423-4a083e7d13e4"
      },
      "execution_count": null,
      "outputs": [
        {
          "output_type": "stream",
          "name": "stdout",
          "text": [
            "True\n",
            "True\n"
          ]
        },
        {
          "output_type": "stream",
          "name": "stderr",
          "text": [
            "<>:2: SyntaxWarning: \"is\" with a literal. Did you mean \"==\"?\n",
            "<>:3: SyntaxWarning: \"is not\" with a literal. Did you mean \"!=\"?\n",
            "<>:2: SyntaxWarning: \"is\" with a literal. Did you mean \"==\"?\n",
            "<>:3: SyntaxWarning: \"is not\" with a literal. Did you mean \"!=\"?\n",
            "<ipython-input-11-ed9db87c47e9>:2: SyntaxWarning: \"is\" with a literal. Did you mean \"==\"?\n",
            "  print(1 is 1)\n",
            "<ipython-input-11-ed9db87c47e9>:3: SyntaxWarning: \"is not\" with a literal. Did you mean \"!=\"?\n",
            "  print(1 is not 2)\n"
          ]
        }
      ]
    },
    {
      "cell_type": "code",
      "source": [
        "# Program - Find the sum of 3 digit number entered by the user\n",
        "num = int(input(\"Enter the 3 digit number : \"))\n",
        "sum = num%10\n",
        "num = num//10\n",
        "sum = sum + (num%10)\n",
        "num = num//10\n",
        "sum = sum + num\n",
        "print(\"Sum of 3 digit number is : \",sum)"
      ],
      "metadata": {
        "colab": {
          "base_uri": "https://localhost:8080/"
        },
        "id": "Vvpr_OOpuKQp",
        "outputId": "ce28f4ac-ec57-4c75-db94-6a9d37c580f6"
      },
      "execution_count": null,
      "outputs": [
        {
          "output_type": "stream",
          "name": "stdout",
          "text": [
            "Enter the 3 digit number : 123\n",
            "Sum of 3 digit number is :  6\n"
          ]
        }
      ]
    },
    {
      "cell_type": "markdown",
      "source": [
        "#### If else in python"
      ],
      "metadata": {
        "id": "HlEnQQwdyFOi"
      }
    },
    {
      "cell_type": "code",
      "source": [
        "num = int(input('Enter the number : '))\n",
        "if num%2 ==0:\n",
        "    print('Number is even')\n",
        "else:\n",
        "    print('Number is odd')\n"
      ],
      "metadata": {
        "colab": {
          "base_uri": "https://localhost:8080/"
        },
        "id": "3InIWvVfuaYg",
        "outputId": "6fb14789-273b-4ace-f9f1-5d261eb1240d"
      },
      "execution_count": null,
      "outputs": [
        {
          "output_type": "stream",
          "name": "stdout",
          "text": [
            "Enter the number : 10\n",
            "Number is even\n"
          ]
        }
      ]
    },
    {
      "cell_type": "markdown",
      "source": [
        "Loops in Python"
      ],
      "metadata": {
        "id": "RdmIhXQ_yfnb"
      }
    },
    {
      "cell_type": "code",
      "source": [
        "# for loop\n",
        "for i in range(1,11):\n",
        "    print('{a} * 2 = {b}'.format(a=i,b=i*2))"
      ],
      "metadata": {
        "colab": {
          "base_uri": "https://localhost:8080/"
        },
        "id": "xGZ98amgycUw",
        "outputId": "cb3e2ef5-db3f-4c9b-97da-24da34272a8a"
      },
      "execution_count": null,
      "outputs": [
        {
          "output_type": "stream",
          "name": "stdout",
          "text": [
            "1 * 2 = 2\n",
            "2 * 2 = 4\n",
            "3 * 2 = 6\n",
            "4 * 2 = 8\n",
            "5 * 2 = 10\n",
            "6 * 2 = 12\n",
            "7 * 2 = 14\n",
            "8 * 2 = 16\n",
            "9 * 2 = 18\n",
            "10 * 2 = 20\n"
          ]
        }
      ]
    },
    {
      "cell_type": "code",
      "source": [
        "# while loop\n",
        "n=10\n",
        "i=1\n",
        "while i<=n:\n",
        "  print('{a} * 2 = {b}'.format(a=i,b=i*2))\n",
        "  i+=1"
      ],
      "metadata": {
        "colab": {
          "base_uri": "https://localhost:8080/"
        },
        "id": "VW3LPvivyl34",
        "outputId": "8b3aea7c-0e02-4edc-b1d3-5aaaa67b9206"
      },
      "execution_count": null,
      "outputs": [
        {
          "output_type": "stream",
          "name": "stdout",
          "text": [
            "1 * 2 = 2\n",
            "2 * 2 = 4\n",
            "3 * 2 = 6\n",
            "4 * 2 = 8\n",
            "5 * 2 = 10\n",
            "6 * 2 = 12\n",
            "7 * 2 = 14\n",
            "8 * 2 = 16\n",
            "9 * 2 = 18\n",
            "10 * 2 = 20\n"
          ]
        }
      ]
    },
    {
      "cell_type": "markdown",
      "source": [
        "#### Nested Loop"
      ],
      "metadata": {
        "id": "CJK2woiq1HA9"
      }
    },
    {
      "cell_type": "code",
      "source": [
        "# using for loop\n",
        "\n",
        "for i in range(1,6):\n",
        "    for j in range(0,i):\n",
        "        print('*',end='')\n",
        "    print('')"
      ],
      "metadata": {
        "id": "IAS1mZ8pz8CX",
        "colab": {
          "base_uri": "https://localhost:8080/"
        },
        "outputId": "7ffb48dd-905e-4dcc-ee7a-a5d0f52b2c30"
      },
      "execution_count": null,
      "outputs": [
        {
          "output_type": "stream",
          "name": "stdout",
          "text": [
            "*\n",
            "**\n",
            "***\n",
            "****\n",
            "*****\n"
          ]
        }
      ]
    },
    {
      "cell_type": "markdown",
      "source": [
        "#### Break Statement"
      ],
      "metadata": {
        "id": "kf8olU7A1OyN"
      }
    },
    {
      "cell_type": "code",
      "source": [
        "for i in range(1,11):\n",
        "    if i==5:\n",
        "        break\n",
        "    print(i)"
      ],
      "metadata": {
        "colab": {
          "base_uri": "https://localhost:8080/"
        },
        "id": "paWJ2leM1Mfh",
        "outputId": "0050f3bb-1fba-44c9-8e48-ff1e654ee4dd"
      },
      "execution_count": null,
      "outputs": [
        {
          "output_type": "stream",
          "name": "stdout",
          "text": [
            "1\n",
            "2\n",
            "3\n",
            "4\n"
          ]
        }
      ]
    },
    {
      "cell_type": "markdown",
      "source": [
        "#### Continue Statement"
      ],
      "metadata": {
        "id": "rYv2S-QL1VXR"
      }
    },
    {
      "cell_type": "code",
      "source": [
        "for i in range(1,11):\n",
        "    if i==5:\n",
        "        continue\n",
        "    print(i)"
      ],
      "metadata": {
        "colab": {
          "base_uri": "https://localhost:8080/"
        },
        "id": "0CTJeh6Y1TUC",
        "outputId": "c1b4d8ad-0698-489b-b1fe-83251dccfdf5"
      },
      "execution_count": null,
      "outputs": [
        {
          "output_type": "stream",
          "name": "stdout",
          "text": [
            "1\n",
            "2\n",
            "3\n",
            "4\n",
            "6\n",
            "7\n",
            "8\n",
            "9\n",
            "10\n"
          ]
        }
      ]
    },
    {
      "cell_type": "code",
      "source": [],
      "metadata": {
        "id": "vCPTYDUh1b0u"
      },
      "execution_count": null,
      "outputs": []
    }
  ]
}